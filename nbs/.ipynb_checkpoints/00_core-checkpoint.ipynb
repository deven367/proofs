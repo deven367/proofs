{
 "cells": [
  {
   "cell_type": "markdown",
   "metadata": {},
   "source": [
    "# core\n",
    "\n",
    "> This is a proofs validator to help students and hobbyists do mathematical thinking and problem solving.\n",
    ">\n",
    "> It's for when you buy a math book from the local used book store, so you have a piece of software to use to explore the mathematical concepts alongside you that's fun and easy to use for anybody with a programming background. It's to help amateurs satisfy their mathematical curiosity.\n",
    ">\n",
    "> It's supposed to validate what you're doing in a \"black box\" kind of manner, and try to offer you guardrails enough that you can spot your mistakes and feel *reasonably* more confident you know what you're doing.\n",
    ">\n",
    "> Not perfectly confident, reasonably.\n"
   ]
  },
  {
   "cell_type": "code",
   "execution_count": null,
   "metadata": {},
   "outputs": [],
   "source": [
    "#| default_exp core"
   ]
  },
  {
   "cell_type": "code",
   "execution_count": null,
   "metadata": {},
   "outputs": [],
   "source": [
    "#| hide\n",
    "from nbdev.showdoc import *"
   ]
  },
  {
   "cell_type": "code",
   "execution_count": null,
   "metadata": {},
   "outputs": [],
   "source": [
    "#| export\n",
    "from typing import Callable, List, Tuple, Union\n",
    "from sympy import Equality, Unequality\n",
    "from sympy.core.relational import Relational\n",
    "from sympy.core.basic import Basic\n",
    "import sympy as sp\n",
    "\n",
    "from IPython.display import display, Latex\n",
    "\n",
    "import typing\n",
    "import inspect"
   ]
  },
  {
   "cell_type": "code",
   "execution_count": null,
   "metadata": {},
   "outputs": [
    {
     "ename": "NameError",
     "evalue": "name 'sp' is not defined",
     "output_type": "error",
     "traceback": [
      "\u001b[0;31m---------------------------------------------------------------------------\u001b[0m",
      "\u001b[0;31mNameError\u001b[0m                                 Traceback (most recent call last)",
      "Cell \u001b[0;32mIn[1], line 3\u001b[0m\n\u001b[1;32m      1\u001b[0m \u001b[38;5;66;03m#| export\u001b[39;00m\n\u001b[1;32m      2\u001b[0m \u001b[38;5;66;03m# Basic types\u001b[39;00m\n\u001b[0;32m----> 3\u001b[0m Var \u001b[38;5;241m=\u001b[39m \u001b[43msp\u001b[49m\u001b[38;5;241m.\u001b[39mSymbol\n\u001b[1;32m      4\u001b[0m Const \u001b[38;5;241m=\u001b[39m sp\u001b[38;5;241m.\u001b[39mNumber\n\u001b[1;32m      5\u001b[0m Func \u001b[38;5;241m=\u001b[39m Callable[[Var], sp\u001b[38;5;241m.\u001b[39mExpr]\n",
      "\u001b[0;31mNameError\u001b[0m: name 'sp' is not defined"
     ]
    }
   ],
   "source": [
    "#| export\n",
    "# Basic types\n",
    "Var = sp.Symbol\n",
    "Const = sp.Number\n",
    "Func = Callable[[Var], sp.Expr]\n",
    "Goal = Union[Equality, Unequality, Relational]\n",
    "Expression = Union[sp.Expr, Basic]\n",
    "\n",
    "# Helper functions to create a more user-friendly interface\n",
    "def variable(name: str) -> Var:\n",
    "    return sp.Symbol(name)\n",
    "\n",
    "def constant(value: Union[int, float]) -> Const:\n",
    "    return sp.Number(value)\n",
    "\n",
    "def equation(expr: str) -> sp.Expr:\n",
    "    return sp.sympify(expr, evaluate=False)\n",
    "\n",
    "def equals(lhs: sp.Expr, rhs: sp.Expr) -> Equality:\n",
    "    return sp.Eq(lhs, rhs, evaluate=False)\n",
    "\n",
    "def not_equals(lhs: Expression, rhs: Expression) -> Unequality:\n",
    "    return sp.Ne(lhs, rhs, evaluate=False)\n",
    "\n",
    "def prove(goal: Goal, proof_func: Callable[..., Goal], *args) -> bool:\n",
    "    try:\n",
    "        derived_goal = proof_func(*args)\n",
    "        if goal == derived_goal:\n",
    "            display(Latex(f\"$$\\\\text \\\\quad {sp.latex(goal)} \\\\quad Q.E.D.$$\"))\n",
    "            return True\n",
    "    except Exception as e:\n",
    "        print(f\"Proof error: {str(e)}\")\n",
    "        print(\"Check your assumptions and proof function for errors.\")\n",
    "        return False\n",
    "\n",
    "def contradiction_proof(proof):\n",
    "    def wrapper(*args, **kwargs):\n",
    "        hints = typing.get_type_hints(proof)\n",
    "        if hints != {}:\n",
    "            if hints.get('return') != Unequality:\n",
    "                print(hints.get('return'))\n",
    "                raise TypeError(\"Proof function must return Unequality\")\n",
    "        else:\n",
    "            try:\n",
    "                _printed = ['i', 'line', 'var_name', '_printed', 'var_value', 'proof', 'args', 'kwargs', 'hints']\n",
    "                for i, line in enumerate(inspect.getsourcelines(proof)[0]):\n",
    "                    #print each varaible only once, and add opt outs\n",
    "                    line = line.strip()\n",
    "                    if line.startswith('#'):\n",
    "                        # in future concatenate all the strings into one doc and format nicely.\n",
    "                        # first attempt didn't work out, had weird formatting issues.\n",
    "                        display(Latex(f\"{line[1:].strip()}\"))\n",
    "                        continue\n",
    "                    if line.startswith('def'):\n",
    "                        continue\n",
    "                    if line.startswith('@'):\n",
    "                        continue\n",
    "                    if line.startswith('return'):\n",
    "                        line = line[7:]\n",
    "                    if line == '':\n",
    "                        continue\n",
    "                    exec(line, globals(), locals())\n",
    "                    # print(f\"\\nProof state after line {i+1}: {line}\")\n",
    "                    for var_name, var_value in locals().items():\n",
    "                        if var_name in _printed:\n",
    "                            continue\n",
    "                        else:\n",
    "                            _printed.append(var_name)\n",
    "                        # if isinstance(var_value, (Var, Const, Func)):\n",
    "                        display(Latex(f\"$${sp.latex(var_value)}$$\"))\n",
    "            except Exception as e:\n",
    "                print(f\"Error in proof function: {str(e)}\")\n",
    "                raise\n",
    "            # there might be something weird around result that would prevent it from being printed if it's in the proof. check that later\n",
    "            result = proof(*args, **kwargs)\n",
    "            if not isinstance(result, Unequality):\n",
    "                raise TypeError(\"Proof function must return Unequality\")\n",
    "            return result\n",
    "    return wrapper"
   ]
  },
  {
   "cell_type": "code",
   "execution_count": null,
   "metadata": {},
   "outputs": [],
   "source": [
    "#| hide\n",
    "import nbdev; nbdev.nbdev_export()"
   ]
  },
  {
   "cell_type": "code",
   "execution_count": null,
   "metadata": {},
   "outputs": [],
   "source": []
  }
 ],
 "metadata": {
  "kernelspec": {
   "display_name": "python3",
   "language": "python",
   "name": "python3"
  }
 },
 "nbformat": 4,
 "nbformat_minor": 4
}
