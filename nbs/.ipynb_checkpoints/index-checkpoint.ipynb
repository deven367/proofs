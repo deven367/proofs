{
 "cells": [
  {
   "cell_type": "code",
   "execution_count": null,
   "metadata": {},
   "outputs": [],
   "source": [
    "#| hide\n",
    "from proofs.core import *"
   ]
  },
  {
   "cell_type": "markdown",
   "metadata": {},
   "source": [
    "# proofs\n",
    "\n",
    "> Mathematical proof assistant for curious amateurs."
   ]
  },
  {
   "cell_type": "markdown",
   "metadata": {},
   "source": [
    "This is a proofs validator to help students and hobbyists do mathematical thinking and problem solving.\n",
    "\n",
    "It's for when you buy a math book from the local used book store, so you have a piece of software to use to explore the mathematical concepts alongside you that's fun and easy to use for anybody with a programming background.\n",
    "\n",
    "It's supposed to validate what you're doing in a \"black box\" kind of manner, and try to offer you guardrails enough that you can spot your mistakes and feel *reasonably* more confident you know what you're doing.\n",
    "\n",
    "Not perfectly confident, reasonably.\n",
    "\n",
    "\n",
    "#### Features:\n",
    "- human-readable proofs that run in code. Clear from each line what is being achieved mathematically.\n",
    "- Pure python. Duck typing and abstracts allow for quick end-to-end proof designs, only implementing what you need.\n",
    "- Relies on python abstractions you know, like the type system for defining input and output types\n",
    "- Great, human readable errors so it's clear where your logic is breaking down, why, how you might fix it.\n",
    "\n",
    "#### Principles\n",
    "- Minimal abstractions, small API\n",
    "- minimal dependencies (just sympy right now)\n",
    "- declarative, functional api\n",
    "- simple to use\n",
    "- batteries included"
   ]
  },
  {
   "cell_type": "markdown",
   "metadata": {},
   "source": [
    "## Install"
   ]
  },
  {
   "cell_type": "markdown",
   "metadata": {},
   "source": [
    "```sh\n",
    "pip install proofs\n",
    "```"
   ]
  },
  {
   "cell_type": "markdown",
   "metadata": {},
   "source": [
    "## How to use"
   ]
  },
  {
   "cell_type": "markdown",
   "metadata": {},
   "source": [
    "Fill me in please! Don't forget code examples:"
   ]
  },
  {
   "cell_type": "code",
   "execution_count": null,
   "metadata": {},
   "outputs": [
    {
     "data": {
      "text/latex": [
       "$$\\text \\quad x + 1 \\neq x \\quad Q.E.D.$$"
      ],
      "text/plain": [
       "<IPython.core.display.Latex object>"
      ]
     },
     "metadata": {},
     "output_type": "display_data"
    },
    {
     "data": {
      "text/plain": [
       "True"
      ]
     },
     "execution_count": null,
     "metadata": {},
     "output_type": "execute_result"
    }
   ],
   "source": [
    "def proof_of_x_plus_one(x):\n",
    "    # Given x, Assume x + 1 = x is true for arbitrary_x\n",
    "    assumed_eq = equals(x + 1, x)\n",
    "\n",
    "    # Calculate x + 1\n",
    "    next = x + 1\n",
    "\n",
    "    # Since x+1 = x, we can substitute x+1 for x in the assumption\n",
    "    substitute = equals(next, assumed_eq)\n",
    "\n",
    "    # Observing x + 1 $\\neq$ x, we have reached a contradiction\n",
    "    return not_equals(next, assumed_eq.rhs)\n",
    "\n",
    "#\n",
    "arbitrary_x = variable(\"x\")\n",
    "contradiction_goal = not_equals(arbitrary_x + 1, arbitrary_x)\n",
    "prove(contradiction_goal, proof_of_x_plus_one, arbitrary_x)"
   ]
  },
  {
   "cell_type": "code",
   "execution_count": null,
   "metadata": {},
   "outputs": [],
   "source": []
  }
 ],
 "metadata": {
  "kernelspec": {
   "display_name": "python3",
   "language": "python",
   "name": "python3"
  }
 },
 "nbformat": 4,
 "nbformat_minor": 4
}
