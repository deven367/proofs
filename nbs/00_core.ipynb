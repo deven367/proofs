{
 "cells": [
  {
   "attachments": {},
   "cell_type": "markdown",
   "metadata": {},
   "source": [
    "# core\n",
    "\n",
    "> This is a proofs validator to help students and hobbyists do mathematical thinking and problem solving.\n",
    ">\n",
    "> It's for when you buy a math book from the local used book store, so you have a piece of software to use to explore the mathematical concepts alongside you that's fun and easy to use for anybody with a programming background. It's to help amateurs satisfy their mathematical curiosity.\n",
    ">\n",
    "> It's supposed to validate what you're doing in a \"black box\" kind of manner, and try to offer you guardrails enough that you can spot your mistakes and feel *reasonably* more confident you know what you're doing.\n",
    ">\n",
    "> Not perfectly confident, reasonably.\n"
   ]
  },
  {
   "cell_type": "code",
   "execution_count": null,
   "metadata": {},
   "outputs": [],
   "source": [
    "#| default_exp core"
   ]
  },
  {
   "cell_type": "code",
   "execution_count": null,
   "metadata": {},
   "outputs": [],
   "source": [
    "#| hide\n",
    "from nbdev.showdoc import *\n",
    "from fastcore.test import *"
   ]
  },
  {
   "cell_type": "code",
   "execution_count": null,
   "metadata": {},
   "outputs": [],
   "source": [
    "#| export\n",
    "from typing import Callable, List, Tuple, Union\n",
    "from sympy import Equality, Unequality\n",
    "from sympy.core.relational import Relational\n",
    "from sympy.core.basic import Basic\n",
    "from random import randint, seed\n",
    "import sympy as sp\n",
    "\n",
    "from IPython.display import display, Latex\n",
    "\n",
    "import typing\n",
    "import inspect"
   ]
  },
  {
   "cell_type": "code",
   "execution_count": null,
   "metadata": {},
   "outputs": [],
   "source": [
    "#| export\n",
    "# Basic types\n",
    "Var = sp.Symbol\n",
    "Const = sp.Number\n",
    "Func = Callable[[Var], sp.Expr]\n",
    "Goal = Union[Equality, Unequality, Relational]\n",
    "Expression = Union[sp.Expr, Basic]\n",
    "\n",
    "# TODO - build in a repr override to use latex\n",
    "\n",
    "# Helper functions to create a more user-friendly interface\n",
    "def variable(name: str) -> Var:\n",
    "    return sp.Symbol(name)\n",
    "\n",
    "def constant(value: Union[int, float]) -> Const:\n",
    "    return sp.Number(value)\n",
    "\n",
    "def equation(expr: str) -> sp.Expr:\n",
    "    return sp.sympify(expr, evaluate=False)\n",
    "\n",
    "def equals(lhs: sp.Expr, rhs: sp.Expr) -> Equality:\n",
    "    return sp.Eq(lhs, rhs, evaluate=False)\n",
    "\n",
    "def not_equals(lhs: Expression, rhs: Expression) -> Unequality:\n",
    "    return sp.Ne(lhs, rhs, evaluate=False)"
   ]
  },
  {
   "cell_type": "code",
   "execution_count": null,
   "metadata": {},
   "outputs": [],
   "source": [
    "#| export\n",
    "def make_examples(domain: str, N: int, equation: str) -> List[Tuple[sp.Expr, sp.Expr]]:\n",
    "    \"\"\"For a given domain and equation, select N examples and generate a list of N input-output pairs.\n",
    "    Currently, the domain can be either 'real' or 'integer', and one variable is assumed.\"\"\"\n",
    "    examples = []\n",
    "    if domain == 'real':\n",
    "        # select N random real numbers\n",
    "        for _ in range(N):\n",
    "            x = sp.Symbol('x')\n",
    "            x_val = randint(-100, 100)\n",
    "            y_val = sp.sympify(equation).subs(x, x_val)\n",
    "            examples.append((x_val, y_val))\n",
    "    elif domain == 'integer':\n",
    "        # select N random integers\n",
    "        for _ in range(N):\n",
    "            x = sp.Symbol('x', integer=True)\n",
    "            x_val = randint(-100, 100)\n",
    "            y_val = sp.sympify(equation).subs(x, x_val)\n",
    "            examples.append((x_val, y_val))\n",
    "    return examples"
   ]
  },
  {
   "cell_type": "code",
   "execution_count": null,
   "metadata": {},
   "outputs": [
    {
     "data": {
      "text/plain": [
       "[(-13, 169),\n",
       " (-29, 841),\n",
       " (-61, 3721),\n",
       " (-45, 2025),\n",
       " (95, 9025),\n",
       " (-14, 196),\n",
       " (-74, 5476),\n",
       " (-77, 5929),\n",
       " (-3, 9),\n",
       " (-76, 5776)]"
      ]
     },
     "execution_count": null,
     "metadata": {},
     "output_type": "execute_result"
    }
   ],
   "source": [
    "make_examples('real', 10, 'x**2')"
   ]
  },
  {
   "cell_type": "code",
   "execution_count": null,
   "metadata": {},
   "outputs": [],
   "source": [
    "#| export\n",
    "def prove(goal: Goal, proof_func: Callable[..., Goal], *args) -> bool:\n",
    "    try:\n",
    "        derived_goal = proof_func(*args)\n",
    "        if goal == derived_goal:\n",
    "            display(Latex(f\"$$\\\\text \\\\quad {sp.latex(goal)} \\\\quad Q.E.D.$$\"))\n",
    "            return True\n",
    "    except Exception as e:\n",
    "        print(f\"Proof error: {str(e)}\")\n",
    "        print(\"Check your assumptions and proof function for errors.\")\n",
    "        return False"
   ]
  },
  {
   "cell_type": "code",
   "execution_count": null,
   "metadata": {},
   "outputs": [],
   "source": [
    "#| export\n",
    "def contradiction_proof(proof):\n",
    "    def wrapper(*args, **kwargs):\n",
    "        hints = typing.get_type_hints(proof)\n",
    "        if hints != {}:\n",
    "            if hints.get('return') != Unequality:\n",
    "                print(hints.get('return'))\n",
    "                raise TypeError(\"Proof function must return Unequality\")\n",
    "        else:\n",
    "            try:\n",
    "                # add all of the arguments to the local namespace with their existing names that are passed in.\n",
    "                args_list = lambda args: [_arg for _arg in args]\n",
    "                _printed = ['_i', '_arg', 'line', 'var_name','args_list', '_printed', 'var_value', 'proof', 'args', 'kwargs', 'hints']\n",
    "                for _i, _arg in enumerate(args_list(args)):\n",
    "                    exec(f\"{_arg} = args[{_i}]\", globals(), locals())\n",
    "                    _printed.append(str(_arg))\n",
    "                for _i, line in enumerate(inspect.getsourcelines(proof)[0]):\n",
    "                    #print each varaible only once, and add opt outs\n",
    "                    line = line.strip()\n",
    "                    if line.startswith('#'):\n",
    "                        # in future concatenate all the strings into one doc and format nicely.\n",
    "                        # first attempt didn't work out, had weird formatting issues.\n",
    "                        display(Latex(f\"{line[1:].strip()}\"))\n",
    "                        continue\n",
    "                    if line.startswith('def'):\n",
    "                        continue\n",
    "                    if line.startswith('@'):\n",
    "                        continue\n",
    "                    if line.startswith('return'):\n",
    "                        line = line[7:]\n",
    "                    if line == '':\n",
    "                        continue\n",
    "                    exec(line, globals(), locals())\n",
    "                    # print(f\"\\nProof state after line {i+1}: {line}\")\n",
    "                    for var_name, var_value in locals().items():\n",
    "                        if var_name in _printed:\n",
    "                            continue\n",
    "                        else:\n",
    "                            _printed.append(var_name)\n",
    "                        # if isinstance(var_value, (Var, Const, Func)):\n",
    "                        display(Latex(f\"$${sp.latex(var_value)}$$\"))\n",
    "            except Exception as e:\n",
    "                print(f\"Error in proof function: {str(e)}\")\n",
    "                raise\n",
    "            # there might be something weird around result that would prevent it from being printed if it's in the proof. check that later\n",
    "            result = proof(*args, **kwargs)\n",
    "            if not isinstance(result, Unequality):\n",
    "                raise TypeError(\"Proof function must return Unequality\")\n",
    "            return result\n",
    "    return wrapper"
   ]
  },
  {
   "attachments": {},
   "cell_type": "markdown",
   "metadata": {},
   "source": [
    "Here's how to use a contradiction goal."
   ]
  },
  {
   "cell_type": "code",
   "execution_count": null,
   "metadata": {},
   "outputs": [
    {
     "data": {
      "text/latex": [
       "$x$"
      ],
      "text/plain": [
       "<IPython.core.display.Latex object>"
      ]
     },
     "metadata": {},
     "output_type": "display_data"
    },
    {
     "data": {
      "text/latex": [
       "$x + 1 \\neq x$"
      ],
      "text/plain": [
       "<IPython.core.display.Latex object>"
      ]
     },
     "metadata": {},
     "output_type": "display_data"
    }
   ],
   "source": [
    "# Start by defining your domain\n",
    "arbitrary_x = variable(\"x\")\n",
    "expression = arbitrary_x + 1\n",
    "\n",
    "# Then define your goal\n",
    "contradiction_goal = not_equals(expression, arbitrary_x)\n",
    "\n",
    "@contradiction_proof\n",
    "def proof_of_x_plus_one(x):\n",
    "    # Given x, Assume x + 1 = x is true for arbitrary_x\n",
    "    assumed_eq = equals(x + 1, x)\n",
    "\n",
    "    # Calculate x + 1\n",
    "    next = x + 1\n",
    "\n",
    "    # Observing x + 1 $\\neq$ x, we have reached a contradiction\n",
    "    return not_equals(next, assumed_eq.rhs)"
   ]
  },
  {
   "cell_type": "code",
   "execution_count": null,
   "metadata": {},
   "outputs": [
    {
     "data": {
      "text/latex": [
       "Given x, Assume x + 1 = x is true for arbitrary_x"
      ],
      "text/plain": [
       "<IPython.core.display.Latex object>"
      ]
     },
     "metadata": {},
     "output_type": "display_data"
    },
    {
     "data": {
      "text/latex": [
       "$x + 1 = x$"
      ],
      "text/plain": [
       "<IPython.core.display.Latex object>"
      ]
     },
     "metadata": {},
     "output_type": "display_data"
    },
    {
     "data": {
      "text/latex": [
       "Calculate x + 1"
      ],
      "text/plain": [
       "<IPython.core.display.Latex object>"
      ]
     },
     "metadata": {},
     "output_type": "display_data"
    },
    {
     "data": {
      "text/latex": [
       "Observing x + 1 $\\neq$ x, we have reached a contradiction"
      ],
      "text/plain": [
       "<IPython.core.display.Latex object>"
      ]
     },
     "metadata": {},
     "output_type": "display_data"
    },
    {
     "data": {
      "text/latex": [
       "$x + 1 \\neq x$"
      ],
      "text/plain": [
       "<IPython.core.display.Latex object>"
      ]
     },
     "metadata": {},
     "output_type": "display_data"
    },
    {
     "data": {
      "text/latex": [
       "$x + 1 = x$"
      ],
      "text/plain": [
       "<IPython.core.display.Latex object>"
      ]
     },
     "metadata": {},
     "output_type": "display_data"
    },
    {
     "data": {
      "text/latex": [
       "$x + 1 \\neq x$"
      ],
      "text/plain": [
       "<IPython.core.display.Latex object>"
      ]
     },
     "metadata": {},
     "output_type": "display_data"
    },
    {
     "data": {
      "text/latex": [
       "$$\\text \\quad x + 1 \\neq x \\quad Q.E.D.$$"
      ],
      "text/plain": [
       "<IPython.core.display.Latex object>"
      ]
     },
     "metadata": {},
     "output_type": "display_data"
    },
    {
     "data": {
      "text/plain": [
       "True"
      ]
     },
     "execution_count": null,
     "metadata": {},
     "output_type": "execute_result"
    }
   ],
   "source": [
    "prove(contradiction_goal, proof_of_x_plus_one, arbitrary_x)"
   ]
  },
  {
   "cell_type": "code",
   "execution_count": null,
   "metadata": {},
   "outputs": [],
   "source": [
    "#| hide\n",
    "import nbdev; nbdev.nbdev_export()"
   ]
  },
  {
   "cell_type": "code",
   "execution_count": null,
   "metadata": {},
   "outputs": [],
   "source": []
  }
 ],
 "metadata": {
  "kernelspec": {
   "display_name": "python3",
   "language": "python",
   "name": "python3"
  }
 },
 "nbformat": 4,
 "nbformat_minor": 4
}
